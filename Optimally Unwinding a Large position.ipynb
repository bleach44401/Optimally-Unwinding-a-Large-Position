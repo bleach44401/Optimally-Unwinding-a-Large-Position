{
 "cells": [
  {
   "cell_type": "code",
   "execution_count": 20,
   "id": "9e7dae7d",
   "metadata": {},
   "outputs": [],
   "source": [
    "import numpy as np\n",
    "import pandas as pd\n",
    "import matplotlib.pyplot as plt\n",
    "import yfinance as yf\n",
    "import datetime as dt\n",
    "from scipy.optimize import minimize\n",
    "from scipy.stats import norm, t"
   ]
  },
  {
   "cell_type": "markdown",
   "id": "greek-democrat",
   "metadata": {},
   "source": [
    "### Data Processing and Portfolio Performance"
   ]
  },
  {
   "cell_type": "code",
   "execution_count": 21,
   "id": "4a3771f3",
   "metadata": {},
   "outputs": [
    {
     "name": "stdout",
     "output_type": "stream",
     "text": [
      "[*********************100%***********************]  3 of 3 completed\n"
     ]
    },
    {
     "data": {
      "text/html": [
       "<div>\n",
       "<style scoped>\n",
       "    .dataframe tbody tr th:only-of-type {\n",
       "        vertical-align: middle;\n",
       "    }\n",
       "\n",
       "    .dataframe tbody tr th {\n",
       "        vertical-align: top;\n",
       "    }\n",
       "\n",
       "    .dataframe thead th {\n",
       "        text-align: right;\n",
       "    }\n",
       "</style>\n",
       "<table border=\"1\" class=\"dataframe\">\n",
       "  <thead>\n",
       "    <tr style=\"text-align: right;\">\n",
       "      <th></th>\n",
       "      <th>^DJI</th>\n",
       "      <th>^GSPC</th>\n",
       "      <th>^IXIC</th>\n",
       "      <th>portfolio</th>\n",
       "    </tr>\n",
       "    <tr>\n",
       "      <th>Date</th>\n",
       "      <th></th>\n",
       "      <th></th>\n",
       "      <th></th>\n",
       "      <th></th>\n",
       "    </tr>\n",
       "  </thead>\n",
       "  <tbody>\n",
       "    <tr>\n",
       "      <th>2021-06-17 00:00:00-04:00</th>\n",
       "      <td>-0.006177</td>\n",
       "      <td>-0.000436</td>\n",
       "      <td>0.008666</td>\n",
       "      <td>0.000572</td>\n",
       "    </tr>\n",
       "    <tr>\n",
       "      <th>2021-06-18 00:00:00-04:00</th>\n",
       "      <td>-0.015769</td>\n",
       "      <td>-0.013124</td>\n",
       "      <td>-0.009248</td>\n",
       "      <td>-0.012755</td>\n",
       "    </tr>\n",
       "    <tr>\n",
       "      <th>2021-06-21 00:00:00-04:00</th>\n",
       "      <td>0.017630</td>\n",
       "      <td>0.014002</td>\n",
       "      <td>0.007919</td>\n",
       "      <td>0.013265</td>\n",
       "    </tr>\n",
       "    <tr>\n",
       "      <th>2021-06-22 00:00:00-04:00</th>\n",
       "      <td>0.002025</td>\n",
       "      <td>0.005124</td>\n",
       "      <td>0.007905</td>\n",
       "      <td>0.005029</td>\n",
       "    </tr>\n",
       "    <tr>\n",
       "      <th>2021-06-23 00:00:00-04:00</th>\n",
       "      <td>-0.002102</td>\n",
       "      <td>-0.001083</td>\n",
       "      <td>0.001295</td>\n",
       "      <td>-0.000675</td>\n",
       "    </tr>\n",
       "    <tr>\n",
       "      <th>...</th>\n",
       "      <td>...</td>\n",
       "      <td>...</td>\n",
       "      <td>...</td>\n",
       "      <td>...</td>\n",
       "    </tr>\n",
       "    <tr>\n",
       "      <th>2023-07-05 00:00:00-04:00</th>\n",
       "      <td>-0.003772</td>\n",
       "      <td>-0.001968</td>\n",
       "      <td>-0.001818</td>\n",
       "      <td>-0.002464</td>\n",
       "    </tr>\n",
       "    <tr>\n",
       "      <th>2023-07-06 00:00:00-04:00</th>\n",
       "      <td>-0.010685</td>\n",
       "      <td>-0.007923</td>\n",
       "      <td>-0.008165</td>\n",
       "      <td>-0.008824</td>\n",
       "    </tr>\n",
       "    <tr>\n",
       "      <th>2023-07-07 00:00:00-04:00</th>\n",
       "      <td>-0.005524</td>\n",
       "      <td>-0.002865</td>\n",
       "      <td>-0.001339</td>\n",
       "      <td>-0.003205</td>\n",
       "    </tr>\n",
       "    <tr>\n",
       "      <th>2023-07-10 00:00:00-04:00</th>\n",
       "      <td>0.006211</td>\n",
       "      <td>0.002405</td>\n",
       "      <td>0.001813</td>\n",
       "      <td>0.003369</td>\n",
       "    </tr>\n",
       "    <tr>\n",
       "      <th>2023-07-11 00:00:00-04:00</th>\n",
       "      <td>0.009339</td>\n",
       "      <td>0.006742</td>\n",
       "      <td>0.005496</td>\n",
       "      <td>0.007148</td>\n",
       "    </tr>\n",
       "  </tbody>\n",
       "</table>\n",
       "<p>519 rows × 4 columns</p>\n",
       "</div>"
      ],
      "text/plain": [
       "                               ^DJI     ^GSPC     ^IXIC  portfolio\n",
       "Date                                                              \n",
       "2021-06-17 00:00:00-04:00 -0.006177 -0.000436  0.008666   0.000572\n",
       "2021-06-18 00:00:00-04:00 -0.015769 -0.013124 -0.009248  -0.012755\n",
       "2021-06-21 00:00:00-04:00  0.017630  0.014002  0.007919   0.013265\n",
       "2021-06-22 00:00:00-04:00  0.002025  0.005124  0.007905   0.005029\n",
       "2021-06-23 00:00:00-04:00 -0.002102 -0.001083  0.001295  -0.000675\n",
       "...                             ...       ...       ...        ...\n",
       "2023-07-05 00:00:00-04:00 -0.003772 -0.001968 -0.001818  -0.002464\n",
       "2023-07-06 00:00:00-04:00 -0.010685 -0.007923 -0.008165  -0.008824\n",
       "2023-07-07 00:00:00-04:00 -0.005524 -0.002865 -0.001339  -0.003205\n",
       "2023-07-10 00:00:00-04:00  0.006211  0.002405  0.001813   0.003369\n",
       "2023-07-11 00:00:00-04:00  0.009339  0.006742  0.005496   0.007148\n",
       "\n",
       "[519 rows x 4 columns]"
      ]
     },
     "execution_count": 21,
     "metadata": {},
     "output_type": "execute_result"
    }
   ],
   "source": [
    "# Import data\n",
    "def getData(stocks, start, end):\n",
    "    stockData = yf.download(tickers=stocks, start=start, end=end)\n",
    "    stockData = stockData['Close']\n",
    "    returns = stockData.pct_change()\n",
    "    meanReturns = returns.mean()\n",
    "    covMatrix = returns.cov()\n",
    "    return returns, meanReturns, covMatrix\n",
    "# Portfolio Performance\n",
    "def portfolioPerformance(weights, meanReturns, covMatrix, Time):\n",
    "    returns = np.sum(meanReturns*weights)*Time\n",
    "    std = np.sqrt(np.dot(weights.T, np.dot(covMatrix, weights))) * np.sqrt(Time)\n",
    "    return returns, std\n",
    "\n",
    "assets = ['^GSPC', '^IXIC', '^DJI']\n",
    "endDate = dt.datetime.today()\n",
    "startDate = endDate - dt.timedelta(days=252*3)\n",
    "returns, meanReturns, covMatrix = getData(assets, start=startDate, end=endDate)\n",
    "returns = returns.dropna()\n",
    "weights = np.array([0.3, 0.4, 0.3])\n",
    "returns['portfolio'] = returns.dot(weights)\n",
    "returns"
   ]
  },
  {
   "cell_type": "markdown",
   "id": "accredited-traffic",
   "metadata": {},
   "source": [
    "### Portfolio Returns and Volaility"
   ]
  },
  {
   "cell_type": "code",
   "execution_count": 31,
   "id": "elect-oliver",
   "metadata": {},
   "outputs": [
    {
     "name": "stdout",
     "output_type": "stream",
     "text": [
      "Portfolio Returns/Std over 5 days: 0.00058/0.02791\n"
     ]
    }
   ],
   "source": [
    "TRADING_DAYS = 5\n",
    "pVal = 100\n",
    "pRet, pStd = portfolioPerformance(weights, meanReturns, covMatrix, TRADING_DAYS)\n",
    "print(f\"Portfolio Returns/Std over {TRADING_DAYS} days: {round(pRet,5)}/{round(pStd,5)}\")"
   ]
  },
  {
   "cell_type": "markdown",
   "id": "forward-piano",
   "metadata": {},
   "source": [
    "### Parametric VaR with Liquidity risk "
   ]
  },
  {
   "cell_type": "code",
   "execution_count": 32,
   "id": "e3b50dff",
   "metadata": {},
   "outputs": [],
   "source": [
    "def para_var(tradeAmt, portfolioValue, portofolioReturns, portfolioStd, alpha=5):\n",
    "    total_VaR = []\n",
    "    for tradingAmt in tradeAmt:\n",
    "        VaR = (norm.ppf(1-alpha/100)*portfolioStd - portofolioReturns)*(portfolioValue-tradingAmt)\n",
    "        total_VaR.append(VaR)\n",
    "        portfolioValue -= tradingAmt\n",
    "    return np.sum(total_VaR)\n",
    "def trading_cost(tradeAmt, p1, p2, p3):\n",
    "    spread_func = p1 + p2*np.exp(p3*tradeAmt)\n",
    "    tc = (spread_func/2)*tradeAmt\n",
    "    return np.sum(tc)\n",
    "def func_to_minimize(tradeAmt, portfolioValue, portofolioReturns, portfolioStd, p1, p2, p3):\n",
    "    return para_var(tradeAmt, portfolioValue, portofolioReturns, portfolioStd) + trading_cost(tradeAmt, p1, p2, p3)"
   ]
  },
  {
   "cell_type": "markdown",
   "id": "later-kingdom",
   "metadata": {},
   "source": [
    "### VaR calculations from unwinding a large position"
   ]
  },
  {
   "cell_type": "code",
   "execution_count": 33,
   "id": "229ff049",
   "metadata": {},
   "outputs": [
    {
     "data": {
      "text/plain": [
       "15.783314454312531"
      ]
     },
     "execution_count": 33,
     "metadata": {},
     "output_type": "execute_result"
    }
   ],
   "source": [
    "\"\"\" Unwinding a Large Position equally over the duration of TRADING_DAYS\"\"\"\n",
    "p1 = 0.08\n",
    "p2 = 0.02\n",
    "p3 = 0.05\n",
    "init_guess = np.array(TRADING_DAYS*[pVal/TRADING_DAYS]) \n",
    "tradeAmt = np.array(init_guess)\n",
    "func_to_minimize(tradeAmt, pVal, pRet, pStd, p1, p2, p3)"
   ]
  },
  {
   "cell_type": "markdown",
   "id": "cognitive-minimum",
   "metadata": {},
   "source": [
    "### Trading Cost: Spread Function"
   ]
  },
  {
   "cell_type": "code",
   "execution_count": 35,
   "id": "663ade79",
   "metadata": {},
   "outputs": [
    {
     "data": {
      "text/plain": [
       "[<matplotlib.lines.Line2D at 0x1f6a7250a00>]"
      ]
     },
     "execution_count": 35,
     "metadata": {},
     "output_type": "execute_result"
    },
    {
     "data": {
      "image/png": "[encoded data removed]",
      "text/plain": [
       "<Figure size 432x288 with 1 Axes>"
      ]
     },
     "metadata": {
      "needs_background": "light"
     },
     "output_type": "display_data"
    }
   ],
   "source": [
    "spread_func = p1 + p2*np.exp(p3*tradingAmt)\n",
    "plt.plot(np.linspace(0, 80), spread_func)"
   ]
  },
  {
   "cell_type": "markdown",
   "id": "chicken-frame",
   "metadata": {},
   "source": [
    "### Minimizing VaR to find optimal amount to unload"
   ]
  },
  {
   "cell_type": "code",
   "execution_count": 39,
   "id": "a973591a",
   "metadata": {},
   "outputs": [
    {
     "name": "stdout",
     "output_type": "stream",
     "text": [
      "Amount of unload over 5 days: [35.32, 30.55, 23.63, 10.5, 0.0]\n"
     ]
    }
   ],
   "source": [
    "tradeAmt = np.array(init_guess)\n",
    "func_to_minimize(tradeAmt, pVal, pRet, pStd, p1, p2, p3)\n",
    "args = (pVal, pRet, pStd, p1, p2, p3)\n",
    "constraints = ({'type': 'eq', 'fun': lambda x: np.sum(x) - pVal})\n",
    "bounds = tuple((0,pVal) for i in range(TRADING_DAYS))\n",
    "results = minimize(fun=func_to_minimize, x0=init_guess, method = 'SLSQP', \n",
    "         args=args, bounds=bounds, constraints=constraints)\n",
    "print(f\"Amount of unload over {TRADING_DAYS} days: {[round(x,2) for x in results['x']]}\")"
   ]
  },
  {
   "cell_type": "code",
   "execution_count": null,
   "id": "f780ccf7",
   "metadata": {},
   "outputs": [],
   "source": []
  }
 ],
 "metadata": {
  "kernelspec": {
   "display_name": "Python 3",
   "language": "python",
   "name": "python3"
  },
  "language_info": {
   "codemirror_mode": {
    "name": "ipython",
    "version": 3
   },
   "file_extension": ".py",
   "mimetype": "text/x-python",
   "name": "python",
   "nbconvert_exporter": "python",
   "pygments_lexer": "ipython3",
   "version": "3.8.5"
  }
 },
 "nbformat": 4,
 "nbformat_minor": 5
}
